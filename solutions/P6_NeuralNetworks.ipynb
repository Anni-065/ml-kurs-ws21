{
 "cells": [
  {
   "cell_type": "markdown",
   "metadata": {
    "colab_type": "text",
    "id": "view-in-github"
   },
   "source": [
    "<a href=\"https://colab.research.google.com/github/pabair/ml-kurs-ss21/blob/master/8_PyTorch_Digits.ipynb\" target=\"_parent\"><img src=\"https://colab.research.google.com/assets/colab-badge.svg\" alt=\"Open In Colab\"/></a>"
   ]
  },
  {
   "cell_type": "markdown",
   "metadata": {
    "id": "TOBUyiZq3d2u"
   },
   "source": [
    "# Praktische Übung 6: Neural Networks - Lösung\n"
   ]
  },
  {
   "cell_type": "markdown",
   "metadata": {},
   "source": [
    "First we need to install with `conda install pytorch` or `pip3 install torch` depending on your setup."
   ]
  },
  {
   "cell_type": "markdown",
   "metadata": {
    "id": "LhdvnPe4Q-pO"
   },
   "source": [
    "### 0. Preamble"
   ]
  },
  {
   "cell_type": "code",
   "execution_count": 1,
   "metadata": {
    "id": "K8-YOrlu3w8z"
   },
   "outputs": [],
   "source": [
    "import numpy as np\n",
    "import torch\n",
    "import torch.nn.functional as F\n",
    "import torch.nn as nn\n",
    "import matplotlib.pyplot as plt\n",
    "\n",
    "torch.manual_seed(1)\n",
    "np.random.seed(1)"
   ]
  },
  {
   "cell_type": "markdown",
   "metadata": {},
   "source": [
    "The following lines checks for GPU availability on the machine and sets the GPU as processing device (if available). If you are on Google Colab you can enable GPU support in the menu via `Runtime > Change runtime type` and select `GPU` as hardware accelerator."
   ]
  },
  {
   "cell_type": "code",
   "execution_count": 2,
   "metadata": {
    "colab": {
     "base_uri": "https://localhost:8080/"
    },
    "id": "S3DgoJj735Gr",
    "outputId": "e56e337f-c44f-4bc3-c1ae-e532bb999356"
   },
   "outputs": [
    {
     "name": "stdout",
     "output_type": "stream",
     "text": [
      "No GPU available\n"
     ]
    },
    {
     "data": {
      "text/plain": [
       "device(type='cpu')"
      ]
     },
     "execution_count": 2,
     "metadata": {},
     "output_type": "execute_result"
    }
   ],
   "source": [
    "if(torch.cuda.is_available()):\n",
    "  processing_chip = \"cuda:0\"\n",
    "  print(f\"{torch.cuda.get_device_name(0)} available\")\n",
    "else:\n",
    "  processing_chip = \"cpu\"\n",
    "  print(\"No GPU available\")\n",
    "\n",
    "device = torch.device(processing_chip)\n",
    "device"
   ]
  },
  {
   "cell_type": "markdown",
   "metadata": {
    "id": "Y8EgmXccAr9b"
   },
   "source": [
    "### 1. Data Preperation"
   ]
  },
  {
   "cell_type": "markdown",
   "metadata": {},
   "source": [
    "We work with the already know digit dataset. For more details on the dataset, check our [previous](https://github.com/pabair/ml-kurs-ss21/blob/master/2_Logistische_Regression_Digits.ipynb) notebook.\n"
   ]
  },
  {
   "cell_type": "code",
   "execution_count": 3,
   "metadata": {
    "id": "DZoYUZfQ_TU8"
   },
   "outputs": [],
   "source": [
    "from sklearn.datasets import load_digits\n",
    "data, labels = load_digits(return_X_y = True)"
   ]
  },
  {
   "cell_type": "code",
   "execution_count": 4,
   "metadata": {
    "id": "KfY2iF0WTlWu"
   },
   "outputs": [],
   "source": [
    "from sklearn.model_selection import train_test_split\n",
    "train_X, test_X, train_y, test_y = train_test_split(data, labels, test_size=0.2, random_state=0)"
   ]
  },
  {
   "cell_type": "code",
   "execution_count": 5,
   "metadata": {
    "colab": {
     "base_uri": "https://localhost:8080/"
    },
    "id": "fQqdZZ16AHBe",
    "outputId": "75f7aff9-a647-4010-bafa-8141fc7aa46d"
   },
   "outputs": [
    {
     "data": {
      "text/plain": [
       "array([[ 0.,  0.,  0., ..., 16., 16.,  6.],\n",
       "       [ 0.,  3., 12., ..., 16.,  2.,  0.],\n",
       "       [ 0.,  1., 10., ...,  0.,  0.,  0.],\n",
       "       ...,\n",
       "       [ 0.,  0.,  5., ...,  0.,  0.,  0.],\n",
       "       [ 0.,  0.,  4., ...,  0.,  0.,  0.],\n",
       "       [ 0.,  0.,  6., ..., 11.,  0.,  0.]])"
      ]
     },
     "execution_count": 5,
     "metadata": {},
     "output_type": "execute_result"
    }
   ],
   "source": [
    "train_X"
   ]
  },
  {
   "cell_type": "markdown",
   "metadata": {},
   "source": [
    "To be able to use the data in PyTorch, we need to convert them into PyTorch tensors. Such a tensor can be thought of an efficient way to represent lists and matrices (similar to Numpy), with the additional benefit that they can be moved to the GPU (the .to(device) part in the code below) and that they support automatic backpropagation (more on this later):"
   ]
  },
  {
   "cell_type": "code",
   "execution_count": 6,
   "metadata": {},
   "outputs": [],
   "source": [
    "train_x = torch.Tensor(train_X).float().to(device)\n",
    "test_x = torch.Tensor(test_X).float().to(device)\n",
    "train_y =torch.Tensor(train_y).long().to(device)\n",
    "test_y = torch.Tensor(test_y).long().to(device)"
   ]
  },
  {
   "cell_type": "markdown",
   "metadata": {
    "id": "5wcTXnyu7NWK"
   },
   "source": [
    "### 2. Model definition \n"
   ]
  },
  {
   "cell_type": "markdown",
   "metadata": {},
   "source": [
    "We define now the strucutre of our neural network. For this we create a class that is a subclass from PyTorch's nn.Module. By convention we put in the `__init__` method the layers we want to use in the network and in the `forward` method how data flows through this network.\n",
    "\n",
    "Our network has 64 input features, one hidden layer with 5 neurons and 10 output neurons. The hidden layer uses a Relu activation function. Note that the output layer does not have a softmax activation (unlike we have seen it in the lecture). It rather gives out a raw score for each class (more on this later)."
   ]
  },
  {
   "cell_type": "code",
   "execution_count": 7,
   "metadata": {
    "id": "_W47oZ534E-1"
   },
   "outputs": [],
   "source": [
    "class Net(nn.Module):\n",
    "  def __init__(self):\n",
    "    super(Net, self).__init__()\n",
    "    self.hidden1 = nn.Linear(64, 10) # Task 1\n",
    "    self.hidden2 = nn.Linear(10, 5)  # Task 1\n",
    "    self.output = nn.Linear(5, 10)\n",
    "\n",
    "  def forward(self, x):\n",
    "    z = F.relu(self.hidden1(x))\n",
    "    z = F.relu(self.hidden2(z)) # Task 1\n",
    "    z = self.output(z)  # no softmax. see CrossEntropyLoss() \n",
    "    return z"
   ]
  },
  {
   "cell_type": "markdown",
   "metadata": {
    "id": "gJyy5JG_84vs"
   },
   "source": [
    "### 3. Model Training"
   ]
  },
  {
   "cell_type": "markdown",
   "metadata": {},
   "source": [
    "We can now start training our network. We run several epochs in which we first predict on the training data with our network and than backpropagate the loss. For this we use PyTorch's build-in optimizer that runs gradient descent on the weights of the network. Hence, in every episode we reduce the loss on the training data and improve our network.\n",
    "\n",
    "As loss function we use cross entropy, which consumes the raw scores from the prediction and internally applies a softmax (that is why we do not need the softmax as last layer in the network).\n",
    "\n",
    "Note that all training data is passed at once to our network (line `net(train_x)` ), since PyTorch will predict on all data points in parallel."
   ]
  },
  {
   "cell_type": "code",
   "execution_count": 8,
   "metadata": {},
   "outputs": [
    {
     "data": {
      "text/plain": [
       "Net(\n",
       "  (hidden1): Linear(in_features=64, out_features=10, bias=True)\n",
       "  (hidden2): Linear(in_features=10, out_features=5, bias=True)\n",
       "  (output): Linear(in_features=5, out_features=10, bias=True)\n",
       ")"
      ]
     },
     "execution_count": 8,
     "metadata": {},
     "output_type": "execute_result"
    }
   ],
   "source": [
    "# create network, move it to device and set it to training-mode\n",
    "net = Net().to(device)\n",
    "net.train()"
   ]
  },
  {
   "cell_type": "code",
   "execution_count": 9,
   "metadata": {
    "colab": {
     "base_uri": "https://localhost:8080/"
    },
    "id": "7RQHZvvyAFzV",
    "outputId": "85c7caef-49ee-443f-d052-30af1758c4a2"
   },
   "outputs": [
    {
     "name": "stdout",
     "output_type": "stream",
     "text": [
      "\n",
      "Starting training \n",
      "Loss in epoch 0 is 2.7680861949920654\n",
      "Loss in epoch 100 is 1.8456429243087769\n",
      "Loss in epoch 200 is 1.5123106241226196\n",
      "Loss in epoch 300 is 1.2833099365234375\n",
      "Loss in epoch 400 is 1.1420927047729492\n",
      "Loss in epoch 500 is 0.9864490628242493\n",
      "Loss in epoch 600 is 0.7818663120269775\n",
      "Loss in epoch 700 is 0.6709212064743042\n",
      "Loss in epoch 800 is 0.5803935527801514\n",
      "Loss in epoch 900 is 0.4972642958164215\n",
      "Loss in epoch 1000 is 0.4304569959640503\n",
      "Loss in epoch 1100 is 0.3747665584087372\n",
      "Loss in epoch 1200 is 0.3190980553627014\n",
      "Loss in epoch 1300 is 0.2646696865558624\n",
      "Loss in epoch 1400 is 0.22832906246185303\n",
      "Loss in epoch 1500 is 0.20401939749717712\n",
      "Loss in epoch 1600 is 0.1858215183019638\n",
      "Loss in epoch 1700 is 0.1713501513004303\n",
      "Loss in epoch 1800 is 0.1593317836523056\n",
      "Loss in epoch 1900 is 0.14909441769123077\n",
      "Loss in epoch 2000 is 0.1402047872543335\n",
      "Loss in epoch 2100 is 0.13237476348876953\n",
      "Loss in epoch 2200 is 0.12521660327911377\n",
      "Loss in epoch 2300 is 0.11873885989189148\n",
      "Loss in epoch 2400 is 0.11282192170619965\n",
      "Loss in epoch 2500 is 0.10742396861314774\n",
      "Loss in epoch 2600 is 0.1024504005908966\n",
      "Loss in epoch 2700 is 0.09780097007751465\n",
      "Loss in epoch 2800 is 0.09344425052404404\n",
      "Loss in epoch 2900 is 0.08937948942184448\n",
      "Loss in epoch 3000 is 0.08558496832847595\n",
      "Loss in epoch 3100 is 0.08196631819009781\n",
      "Loss in epoch 3200 is 0.0785716101527214\n",
      "Loss in epoch 3300 is 0.07543733716011047\n",
      "Loss in epoch 3400 is 0.07253439724445343\n",
      "Loss in epoch 3500 is 0.06982558965682983\n",
      "Loss in epoch 3600 is 0.06719015538692474\n",
      "Loss in epoch 3700 is 0.06472936272621155\n",
      "Loss in epoch 3800 is 0.0624292753636837\n",
      "Loss in epoch 3900 is 0.060273490846157074\n",
      "Loss in epoch 4000 is 0.05824410915374756\n",
      "Loss in epoch 4100 is 0.05632466450333595\n",
      "Loss in epoch 4200 is 0.054509714245796204\n",
      "Loss in epoch 4300 is 0.05277923122048378\n",
      "Loss in epoch 4400 is 0.05113239213824272\n",
      "Loss in epoch 4500 is 0.0495789535343647\n",
      "Loss in epoch 4600 is 0.04809107258915901\n",
      "Loss in epoch 4700 is 0.0466638021171093\n",
      "Loss in epoch 4800 is 0.04528866335749626\n",
      "Loss in epoch 4900 is 0.043982211500406265\n",
      "Loss in epoch 5000 is 0.0426773726940155\n",
      "Loss in epoch 5100 is 0.04143356904387474\n",
      "Loss in epoch 5200 is 0.04010952636599541\n",
      "Loss in epoch 5300 is 0.038671985268592834\n",
      "Loss in epoch 5400 is 0.037335414439439774\n",
      "Loss in epoch 5500 is 0.03602658584713936\n",
      "Loss in epoch 5600 is 0.03480478748679161\n",
      "Loss in epoch 5700 is 0.03364589810371399\n",
      "Loss in epoch 5800 is 0.032551396638154984\n",
      "Loss in epoch 5900 is 0.03151189163327217\n",
      "Loss in epoch 6000 is 0.03051465004682541\n",
      "Loss in epoch 6100 is 0.02956532873213291\n",
      "Loss in epoch 6200 is 0.028655527159571648\n",
      "Loss in epoch 6300 is 0.027776028960943222\n",
      "Loss in epoch 6400 is 0.02693498507142067\n",
      "Loss in epoch 6500 is 0.0261183250695467\n",
      "Loss in epoch 6600 is 0.025337792932987213\n",
      "Loss in epoch 6700 is 0.02459251880645752\n",
      "Loss in epoch 6800 is 0.023872192949056625\n",
      "Loss in epoch 6900 is 0.023182781413197517\n",
      "Loss in epoch 7000 is 0.022524382919073105\n",
      "Loss in epoch 7100 is 0.021890465170145035\n",
      "Loss in epoch 7200 is 0.02128322795033455\n",
      "Loss in epoch 7300 is 0.02069813944399357\n",
      "Loss in epoch 7400 is 0.020133139565587044\n",
      "Loss in epoch 7500 is 0.019587313756346703\n",
      "Loss in epoch 7600 is 0.019061291590332985\n",
      "Loss in epoch 7700 is 0.018558476120233536\n",
      "Loss in epoch 7800 is 0.018072163686156273\n",
      "Loss in epoch 7900 is 0.017605235800147057\n",
      "Loss in epoch 8000 is 0.017159534618258476\n",
      "Loss in epoch 8100 is 0.016726387664675713\n",
      "Loss in epoch 8200 is 0.016306735575199127\n",
      "Loss in epoch 8300 is 0.015905773267149925\n",
      "Loss in epoch 8400 is 0.015517138876020908\n",
      "Loss in epoch 8500 is 0.015143901109695435\n",
      "Loss in epoch 8600 is 0.014783280901610851\n",
      "Loss in epoch 8700 is 0.014429091475903988\n",
      "Loss in epoch 8800 is 0.014089546166360378\n",
      "Loss in epoch 8900 is 0.013759947381913662\n",
      "Loss in epoch 9000 is 0.013440916314721107\n",
      "Loss in epoch 9100 is 0.013133973814547062\n",
      "Loss in epoch 9200 is 0.012836163863539696\n",
      "Loss in epoch 9300 is 0.012551740743219852\n",
      "Loss in epoch 9400 is 0.012273822911083698\n",
      "Loss in epoch 9500 is 0.012007570825517178\n",
      "Loss in epoch 9600 is 0.011749151162803173\n",
      "Loss in epoch 9700 is 0.011498999781906605\n",
      "Loss in epoch 9800 is 0.011255435645580292\n",
      "Loss in epoch 9900 is 0.011020180769264698\n",
      "Done training \n"
     ]
    }
   ],
   "source": [
    "# create network, move it to device and set it to training-mode\n",
    "net = Net().to(device)\n",
    "net.train()\n",
    "\n",
    "# define the parameters for training\n",
    "no_epochs = 10000\n",
    "learning_rate = 0.01\n",
    "loss_func = nn.CrossEntropyLoss()  # applies softmax() internally\n",
    "optimizer = torch.optim.SGD(net.parameters(), lr=learning_rate)\n",
    "\n",
    "print(\"\\nStarting training \")\n",
    "\n",
    "train_losses = []\n",
    "test_losses = []\n",
    "for epoch in range(0, no_epochs):\n",
    "\n",
    "  optimizer.zero_grad()\n",
    "  output = net(train_x)\n",
    "\n",
    "  loss = loss_func(output, train_y)\n",
    "  loss.backward()\n",
    "  optimizer.step()\n",
    "\n",
    "  y_hat_test = net(test_x)\n",
    "  loss_test = loss_func(y_hat_test, test_y)\n",
    "\n",
    "  train_losses.append(loss.item())\n",
    "  test_losses.append(loss_test.item())\n",
    "  \n",
    "  if epoch % 100 == 0:\n",
    "    print(f\"Loss in epoch {epoch} is {loss.item()}\")\n",
    "\n",
    "print(\"Done training \")"
   ]
  },
  {
   "cell_type": "code",
   "execution_count": 10,
   "metadata": {
    "colab": {
     "base_uri": "https://localhost:8080/",
     "height": 296
    },
    "id": "fMPxG1i873W7",
    "outputId": "8ed83937-f40a-4e0e-a259-e409fff8fc9e"
   },
   "outputs": [
    {
     "data": {
      "text/plain": [
       "Text(0, 0.5, 'loss')"
      ]
     },
     "execution_count": 10,
     "metadata": {},
     "output_type": "execute_result"
    },
    {
     "data": {
      "image/png": "[encoded data removed]",
      "text/plain": [
       "<Figure size 432x288 with 1 Axes>"
      ]
     },
     "metadata": {
      "needs_background": "light"
     },
     "output_type": "display_data"
    }
   ],
   "source": [
    "fig = plt.figure()\n",
    "plt.plot(range(0, no_epochs), train_losses, color='blue')\n",
    "plt.plot(range(0, no_epochs), test_losses, color='red')\n",
    "plt.legend(['Train Loss', \"Test Loss\"], loc='upper right')\n",
    "plt.xlabel('number of epochs')\n",
    "plt.ylabel('loss')"
   ]
  },
  {
   "cell_type": "markdown",
   "metadata": {
    "id": "cN8btFSP3yU2"
   },
   "source": [
    "### 4. Model Evaluation"
   ]
  },
  {
   "cell_type": "markdown",
   "metadata": {},
   "source": [
    "Finally, we check the model accuracy on the test data. For this we predict on the test data, identify the class with the highest score and compare it to the true label."
   ]
  },
  {
   "cell_type": "code",
   "execution_count": 11,
   "metadata": {
    "colab": {
     "base_uri": "https://localhost:8080/"
    },
    "id": "wsmVfo49Kytp",
    "outputId": "73bdda50-20d6-41e3-bb45-ce40c114f6fc"
   },
   "outputs": [
    {
     "name": "stdout",
     "output_type": "stream",
     "text": [
      "Accuarcy is 91.38888888888889%\n"
     ]
    }
   ],
   "source": [
    "net.eval() # set network to evaluation mode\n",
    "y_pred = net(test_x)\n",
    "_, predicted = torch.max(y_pred.data, 1)\n",
    "correct = (predicted == test_y).sum().item()\n",
    "print(f\"Accuarcy is {100. * correct / len(test_x)}%\")"
   ]
  },
  {
   "cell_type": "markdown",
   "metadata": {},
   "source": [
    "### 5. Tasks"
   ]
  },
  {
   "cell_type": "markdown",
   "metadata": {},
   "source": [
    "1. Our accuracy is not so good on the test data. Try the following to improve the model:\n",
    "    - Increase the hidden layer size to 10 neurons, train the model and compare the accuracy on the test data.\n",
    "    - Add a second hidden layer with 5 neurons, train the model and compare the accuracy on the test data.\n",
    "2. Check if you can decrease the training loss even further if you train for more epochs. However, this can easily result in overfitting. To check that, calculate the accuracy on the test data already during training after each epoch. Show the plot the results as a second plot similiar to the one above. (Note: Normally we need to do this check on seperate validation data, not on our test data).\n",
    "3. Take the titanic data set and try to train a neural network on it."
   ]
  },
  {
   "cell_type": "markdown",
   "metadata": {},
   "source": [
    "### Solutions:\n",
    "1. Accuracy can be improved to 81%. See code changes above.\n",
    "2. We can see that test loss does not get better after 2000 epochs"
   ]
  },
  {
   "cell_type": "markdown",
   "metadata": {},
   "source": [
    "#### Task 3: Titanic data"
   ]
  },
  {
   "cell_type": "code",
   "execution_count": 12,
   "metadata": {},
   "outputs": [],
   "source": [
    "import pandas as pd\n",
    "df = pd.read_csv(\"../data/titanic.csv\")\n",
    "df_selection = df[[\"Survived\", \"Pclass\", \"Age\", \"SibSp\", \"Parch\", \"Fare\"]]\n",
    "df_selection = df_selection.dropna()"
   ]
  },
  {
   "cell_type": "code",
   "execution_count": 13,
   "metadata": {},
   "outputs": [],
   "source": [
    "df_X = df_selection.drop(columns = [\"Survived\"]).values\n",
    "df_y = df_selection[\"Survived\"].values\n",
    "train_x, test_x, train_y, test_y = train_test_split(df_X, df_y, test_size=0.2, random_state=0)"
   ]
  },
  {
   "cell_type": "markdown",
   "metadata": {},
   "source": [
    "What is important above is that we transform the Pandas objects into numpy nd-arrays by applying the `.values`, because PyTorch does not really like to create tensors out of Pandas DataFrames or Series."
   ]
  },
  {
   "cell_type": "code",
   "execution_count": 14,
   "metadata": {},
   "outputs": [],
   "source": [
    "train_x = torch.Tensor(train_x).float().to(device)\n",
    "test_x = torch.Tensor(test_x).float().to(device)\n",
    "train_y = torch.Tensor(train_y).long().to(device)\n",
    "test_y = torch.Tensor(test_y).long().to(device)"
   ]
  },
  {
   "cell_type": "code",
   "execution_count": 15,
   "metadata": {},
   "outputs": [],
   "source": [
    "class TitanicNet(nn.Module):\n",
    "  def __init__(self):\n",
    "    super(TitanicNet, self).__init__()\n",
    "    self.hidden = nn.Linear(5, 10)\n",
    "    self.output = nn.Linear(10, 2)\n",
    "\n",
    "  def forward(self, x):\n",
    "    z = F.relu(self.hidden(x))\n",
    "    z = self.output(z)  # no softmax. see CrossEntropyLoss() \n",
    "    return z"
   ]
  },
  {
   "cell_type": "code",
   "execution_count": 16,
   "metadata": {},
   "outputs": [
    {
     "name": "stdout",
     "output_type": "stream",
     "text": [
      "\n",
      "Starting training \n",
      "Loss in epoch 0 is 1.4843815565109253\n",
      "Loss in epoch 100 is 0.5951009392738342\n",
      "Loss in epoch 200 is 0.5931854248046875\n",
      "Loss in epoch 300 is 0.5906316637992859\n",
      "Loss in epoch 400 is 0.5895888805389404\n",
      "Loss in epoch 500 is 0.5888895392417908\n",
      "Loss in epoch 600 is 0.5881944298744202\n",
      "Loss in epoch 700 is 0.5873889327049255\n",
      "Loss in epoch 800 is 0.5867965221405029\n",
      "Loss in epoch 900 is 0.5856373310089111\n",
      "Loss in epoch 1000 is 0.5846627354621887\n",
      "Loss in epoch 1100 is 0.5851460099220276\n",
      "Loss in epoch 1200 is 0.5833572149276733\n",
      "Loss in epoch 1300 is 0.582300066947937\n",
      "Loss in epoch 1400 is 0.5815097093582153\n",
      "Loss in epoch 1500 is 0.5795500874519348\n",
      "Loss in epoch 1600 is 0.5784773230552673\n",
      "Loss in epoch 1700 is 0.5775740146636963\n",
      "Loss in epoch 1800 is 0.5784034729003906\n",
      "Loss in epoch 1900 is 0.5760794281959534\n",
      "Loss in epoch 2000 is 0.5764955282211304\n",
      "Loss in epoch 2100 is 0.5759484767913818\n",
      "Loss in epoch 2200 is 0.5760431885719299\n",
      "Loss in epoch 2300 is 0.5781945586204529\n",
      "Loss in epoch 2400 is 0.5762701034545898\n",
      "Loss in epoch 2500 is 0.5756538510322571\n",
      "Loss in epoch 2600 is 0.5770686864852905\n",
      "Loss in epoch 2700 is 0.5739690661430359\n",
      "Loss in epoch 2800 is 0.5738746523857117\n",
      "Loss in epoch 2900 is 0.5759968161582947\n",
      "Loss in epoch 3000 is 0.5732998251914978\n",
      "Loss in epoch 3100 is 0.5728517770767212\n",
      "Loss in epoch 3200 is 0.5724316239356995\n",
      "Loss in epoch 3300 is 0.5718773603439331\n",
      "Loss in epoch 3400 is 0.57135409116745\n",
      "Loss in epoch 3500 is 0.5703058242797852\n",
      "Loss in epoch 3600 is 0.5684579610824585\n",
      "Loss in epoch 3700 is 0.5714086294174194\n",
      "Loss in epoch 3800 is 0.5705296397209167\n",
      "Loss in epoch 3900 is 0.5680009126663208\n",
      "Loss in epoch 4000 is 0.5678946375846863\n",
      "Loss in epoch 4100 is 0.5667819380760193\n",
      "Loss in epoch 4200 is 0.5669751763343811\n",
      "Loss in epoch 4300 is 0.5668919086456299\n",
      "Loss in epoch 4400 is 0.566562831401825\n",
      "Loss in epoch 4500 is 0.5657640695571899\n",
      "Loss in epoch 4600 is 0.565634548664093\n",
      "Loss in epoch 4700 is 0.5652162432670593\n",
      "Loss in epoch 4800 is 0.5650262832641602\n",
      "Loss in epoch 4900 is 0.5643633604049683\n",
      "Loss in epoch 5000 is 0.564153790473938\n",
      "Loss in epoch 5100 is 0.5634329915046692\n",
      "Loss in epoch 5200 is 0.5635901093482971\n",
      "Loss in epoch 5300 is 0.5634826421737671\n",
      "Loss in epoch 5400 is 0.5623275637626648\n",
      "Loss in epoch 5500 is 0.5617095828056335\n",
      "Loss in epoch 5600 is 0.5618563294410706\n",
      "Loss in epoch 5700 is 0.5618252754211426\n",
      "Loss in epoch 5800 is 0.560986340045929\n",
      "Loss in epoch 5900 is 0.5607773065567017\n",
      "Loss in epoch 6000 is 0.5605683326721191\n",
      "Loss in epoch 6100 is 0.5604833960533142\n",
      "Loss in epoch 6200 is 0.5605653524398804\n",
      "Loss in epoch 6300 is 0.5600557327270508\n",
      "Loss in epoch 6400 is 0.5599592328071594\n",
      "Loss in epoch 6500 is 0.5595239400863647\n",
      "Loss in epoch 6600 is 0.5592758655548096\n",
      "Loss in epoch 6700 is 0.5595834851264954\n",
      "Loss in epoch 6800 is 0.558965802192688\n",
      "Loss in epoch 6900 is 0.5589733719825745\n",
      "Loss in epoch 7000 is 0.5587372183799744\n",
      "Loss in epoch 7100 is 0.5586830973625183\n",
      "Loss in epoch 7200 is 0.5582078099250793\n",
      "Loss in epoch 7300 is 0.5580131411552429\n",
      "Loss in epoch 7400 is 0.5583059787750244\n",
      "Loss in epoch 7500 is 0.5576542019844055\n",
      "Loss in epoch 7600 is 0.557966411113739\n",
      "Loss in epoch 7700 is 0.5574092268943787\n",
      "Loss in epoch 7800 is 0.5574302077293396\n",
      "Loss in epoch 7900 is 0.55724036693573\n",
      "Loss in epoch 8000 is 0.5571689009666443\n",
      "Loss in epoch 8100 is 0.5569134950637817\n",
      "Loss in epoch 8200 is 0.556690514087677\n",
      "Loss in epoch 8300 is 0.5566874742507935\n",
      "Loss in epoch 8400 is 0.5564546585083008\n",
      "Loss in epoch 8500 is 0.5567640662193298\n",
      "Loss in epoch 8600 is 0.5563517808914185\n",
      "Loss in epoch 8700 is 0.5564799904823303\n",
      "Loss in epoch 8800 is 0.5564385056495667\n",
      "Loss in epoch 8900 is 0.555903971195221\n",
      "Loss in epoch 9000 is 0.5559352040290833\n",
      "Loss in epoch 9100 is 0.5554810762405396\n",
      "Loss in epoch 9200 is 0.5554806590080261\n",
      "Loss in epoch 9300 is 0.5551006197929382\n",
      "Loss in epoch 9400 is 0.5548680424690247\n",
      "Loss in epoch 9500 is 0.5546959638595581\n",
      "Loss in epoch 9600 is 0.554648756980896\n",
      "Loss in epoch 9700 is 0.5546644926071167\n",
      "Loss in epoch 9800 is 0.5545490980148315\n",
      "Loss in epoch 9900 is 0.5550286173820496\n",
      "Done training \n"
     ]
    }
   ],
   "source": [
    "net = TitanicNet().to(device)\n",
    "net.train()\n",
    "\n",
    "# define the parameters for training\n",
    "no_epochs = 10000\n",
    "learning_rate = 0.01\n",
    "loss_func = nn.CrossEntropyLoss()  # applies softmax() internally\n",
    "optimizer = torch.optim.SGD(net.parameters(), lr=learning_rate)\n",
    "\n",
    "print(\"\\nStarting training \")\n",
    "\n",
    "train_losses = []\n",
    "test_losses = []\n",
    "for epoch in range(0, no_epochs):\n",
    "\n",
    "  optimizer.zero_grad()\n",
    "  output = net(train_x)\n",
    "\n",
    "  loss = loss_func(output, train_y)\n",
    "  loss.backward()\n",
    "  optimizer.step()\n",
    "\n",
    "  y_test = net(test_x)\n",
    "  loss_test = loss_func(y_test, test_y)\n",
    "\n",
    "  train_losses.append(loss.item())\n",
    "  test_losses.append(loss_test.item())\n",
    "  \n",
    "  if epoch % 100 == 0:\n",
    "    print(f\"Loss in epoch {epoch} is {loss.item()}\")\n",
    "\n",
    "print(\"Done training \")"
   ]
  },
  {
   "cell_type": "code",
   "execution_count": 17,
   "metadata": {},
   "outputs": [
    {
     "data": {
      "text/plain": [
       "Text(0, 0.5, 'loss')"
      ]
     },
     "execution_count": 17,
     "metadata": {},
     "output_type": "execute_result"
    },
    {
     "data": {
      "image/png": "[encoded data removed]",
      "text/plain": [
       "<Figure size 432x288 with 1 Axes>"
      ]
     },
     "metadata": {
      "needs_background": "light"
     },
     "output_type": "display_data"
    }
   ],
   "source": [
    "fig = plt.figure()\n",
    "plt.plot(range(0, no_epochs), train_losses, color='blue')\n",
    "plt.plot(range(0, no_epochs), test_losses, color='red')\n",
    "plt.legend(['Train Loss', \"Test Loss\"], loc='upper right')\n",
    "plt.xlabel('number of epochs')\n",
    "plt.ylabel('loss')"
   ]
  },
  {
   "cell_type": "code",
   "execution_count": 18,
   "metadata": {},
   "outputs": [
    {
     "name": "stdout",
     "output_type": "stream",
     "text": [
      "Accuarcy is 68.53146853146853%\n"
     ]
    }
   ],
   "source": [
    "y_pred = net(test_x)\n",
    "_, predicted = torch.max(y_pred.data, 1)\n",
    "correct = (predicted == test_y).sum().item()\n",
    "print(f\"Accuarcy is {100. * correct / len(test_x)}%\")"
   ]
  },
  {
   "cell_type": "code",
   "execution_count": null,
   "metadata": {},
   "outputs": [],
   "source": []
  }
 ],
 "metadata": {
  "colab": {
   "authorship_tag": "ABX9TyNB7ogddopYqmFoUzkoa6YX",
   "collapsed_sections": [],
   "include_colab_link": true,
   "name": "4_PyTorch_Example.ipynb",
   "provenance": []
  },
  "kernelspec": {
   "display_name": "Python 3",
   "language": "python",
   "name": "python3"
  },
  "language_info": {
   "codemirror_mode": {
    "name": "ipython",
    "version": 3
   },
   "file_extension": ".py",
   "mimetype": "text/x-python",
   "name": "python",
   "nbconvert_exporter": "python",
   "pygments_lexer": "ipython3",
   "version": "3.8.5"
  }
 },
 "nbformat": 4,
 "nbformat_minor": 1
}
